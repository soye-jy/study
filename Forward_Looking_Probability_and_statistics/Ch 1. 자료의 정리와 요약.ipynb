{
 "cells": [
  {
   "cell_type": "markdown",
   "id": "8eb89114",
   "metadata": {},
   "source": [
    "**이공계생을 위한 확률과 통계** 안승철 지음."
   ]
  },
  {
   "cell_type": "code",
   "execution_count": 31,
   "id": "8db243de",
   "metadata": {},
   "outputs": [],
   "source": [
    "import warnings\n",
    "warnings.filterwarnings('ignore')\n",
    "\n",
    "import pandas as pd\n",
    "\n",
    "from matplotlib import font_manager, rc\n",
    "import matplotlib.pyplot as plt\n",
    "\n",
    "%matplotlib inline\n",
    "\n",
    "plt.rcParams['axes.unicode_minus'] = False\n",
    "rc('font', family='AppleGothic')"
   ]
  },
  {
   "cell_type": "markdown",
   "id": "13fa1077",
   "metadata": {},
   "source": [
    "# Descriptive Statustics\n",
    "\n",
    "## chapter 01 자료의 정리와 요약\n",
    "\n",
    "1. 기술통계: 통계적 결과를 표나 그래프로 정리하는 것\n",
    "자료 정리(정보를 쉽게 파악하기 위한 자료 가공) / 자료 요약(자료의 특성을 수치로 표현)\n",
    "\n",
    "### section 01 도표를 이용한 자료 정리\n",
    "\n",
    "#### 도수분포표\n",
    "일정한 계급(clss)로 나누고, 각 계급에 속하는 자료의 도수(frequency)를 만든 것 \n",
    "\n",
    "#### 상대도수분포표\n",
    "계급의 상대도수를 각 계급에 대응시켜 작성한 표\n",
    "* 상대도수(relactive frequency): 각 계급도수를 전체 도수로 나눈 것\n",
    "\n",
    "#### 누적도수분포표\n",
    "작은 쪽에서 몇 번째로 큰 자료의 값이 대략 얼마인가 알고자 할때 유용함.\n",
    "* 누적도수(cumulative frequency): 도수분포표에서 첫 계급부터 각 도수를 차례로 더한 값\n",
    "\n",
    "#### 누적상대도수분포표 \n",
    "누적도수를 전체 도수로 나눈것"
   ]
  },
  {
   "cell_type": "code",
   "execution_count": 23,
   "id": "76e76b27",
   "metadata": {},
   "outputs": [
    {
     "data": {
      "text/html": [
       "<div>\n",
       "<style scoped>\n",
       "    .dataframe tbody tr th:only-of-type {\n",
       "        vertical-align: middle;\n",
       "    }\n",
       "\n",
       "    .dataframe tbody tr th {\n",
       "        vertical-align: top;\n",
       "    }\n",
       "\n",
       "    .dataframe thead th {\n",
       "        text-align: right;\n",
       "    }\n",
       "</style>\n",
       "<table border=\"1\" class=\"dataframe\">\n",
       "  <thead>\n",
       "    <tr style=\"text-align: right;\">\n",
       "      <th></th>\n",
       "      <th>class</th>\n",
       "      <th>도수</th>\n",
       "      <th>상대도수</th>\n",
       "      <th>누적도수</th>\n",
       "      <th>누적상대도수</th>\n",
       "    </tr>\n",
       "  </thead>\n",
       "  <tbody>\n",
       "    <tr>\n",
       "      <th>0</th>\n",
       "      <td>0.~</td>\n",
       "      <td>4</td>\n",
       "      <td>0.100</td>\n",
       "      <td>4</td>\n",
       "      <td>0.100</td>\n",
       "    </tr>\n",
       "    <tr>\n",
       "      <th>1</th>\n",
       "      <td>1.~</td>\n",
       "      <td>11</td>\n",
       "      <td>0.275</td>\n",
       "      <td>15</td>\n",
       "      <td>0.375</td>\n",
       "    </tr>\n",
       "    <tr>\n",
       "      <th>2</th>\n",
       "      <td>2.~</td>\n",
       "      <td>7</td>\n",
       "      <td>0.175</td>\n",
       "      <td>22</td>\n",
       "      <td>0.550</td>\n",
       "    </tr>\n",
       "    <tr>\n",
       "      <th>3</th>\n",
       "      <td>3.~</td>\n",
       "      <td>8</td>\n",
       "      <td>0.200</td>\n",
       "      <td>30</td>\n",
       "      <td>0.750</td>\n",
       "    </tr>\n",
       "    <tr>\n",
       "      <th>4</th>\n",
       "      <td>4.~</td>\n",
       "      <td>2</td>\n",
       "      <td>0.050</td>\n",
       "      <td>32</td>\n",
       "      <td>0.800</td>\n",
       "    </tr>\n",
       "    <tr>\n",
       "      <th>5</th>\n",
       "      <td>5.~</td>\n",
       "      <td>4</td>\n",
       "      <td>0.100</td>\n",
       "      <td>36</td>\n",
       "      <td>0.900</td>\n",
       "    </tr>\n",
       "    <tr>\n",
       "      <th>6</th>\n",
       "      <td>6.~</td>\n",
       "      <td>2</td>\n",
       "      <td>0.050</td>\n",
       "      <td>38</td>\n",
       "      <td>0.950</td>\n",
       "    </tr>\n",
       "    <tr>\n",
       "      <th>7</th>\n",
       "      <td>7.~</td>\n",
       "      <td>2</td>\n",
       "      <td>0.050</td>\n",
       "      <td>40</td>\n",
       "      <td>1.000</td>\n",
       "    </tr>\n",
       "  </tbody>\n",
       "</table>\n",
       "</div>"
      ],
      "text/plain": [
       "  class  도수   상대도수  누적도수  누적상대도수\n",
       "0   0.~   4  0.100     4   0.100\n",
       "1   1.~  11  0.275    15   0.375\n",
       "2   2.~   7  0.175    22   0.550\n",
       "3   3.~   8  0.200    30   0.750\n",
       "4   4.~   2  0.050    32   0.800\n",
       "5   5.~   4  0.100    36   0.900\n",
       "6   6.~   2  0.050    38   0.950\n",
       "7   7.~   2  0.050    40   1.000"
      ]
     },
     "execution_count": 23,
     "metadata": {},
     "output_type": "execute_result"
    }
   ],
   "source": [
    "cls = ['0.~', '1.~', '2.~', '3.~', '4.~', '5.~', '6.~', '7.~']\n",
    "cnt = [4, 11, 7, 8, 2, 4, 2, 2]\n",
    "data = pd.DataFrame(data={'class': cls, '도수': cnt})\n",
    "data['상대도수'] = data['도수']/ data['도수'].sum()\n",
    "data['누적도수'] = data['도수'].cumsum()\n",
    "data['누적상대도수'] = data['누적도수'] / data['도수'].sum()\n",
    "data"
   ]
  },
  {
   "cell_type": "markdown",
   "id": "13de1409",
   "metadata": {},
   "source": [
    "### section 02 그림을 이용한 자료 정리\n",
    "\n",
    "#### 막대그래프\n",
    "질적 자료에서 각 도수를 막대 모양으로 나타낸 그림"
   ]
  },
  {
   "cell_type": "code",
   "execution_count": 10,
   "id": "117ba715",
   "metadata": {},
   "outputs": [],
   "source": [
    "import seaborn as sns "
   ]
  },
  {
   "cell_type": "code",
   "execution_count": 33,
   "id": "483f7f01",
   "metadata": {},
   "outputs": [
    {
     "data": {
      "text/plain": [
       "Text(0.5, 1.0, '막대그래프')"
      ]
     },
     "execution_count": 33,
     "metadata": {},
     "output_type": "execute_result"
    },
    {
     "data": {
      "image/png": "[encoded data removed]",
      "text/plain": [
       "<Figure size 432x288 with 1 Axes>"
      ]
     },
     "metadata": {
      "needs_background": "light"
     },
     "output_type": "display_data"
    }
   ],
   "source": [
    "bardata = pd.DataFrame({'혈액형': ['A', 'B', 'O', 'AB'], '도수(명)': [11, 9, 6, 4]})\n",
    "sns.barplot(data = bardata, x='혈액형', y='도수(명)')\n",
    "plt.title('막대그래프')"
   ]
  },
  {
   "cell_type": "markdown",
   "id": "3c501226",
   "metadata": {},
   "source": [
    "#### 히스토그램"
   ]
  },
  {
   "cell_type": "code",
   "execution_count": 35,
   "id": "6ea9e79a",
   "metadata": {},
   "outputs": [
    {
     "data": {
      "text/plain": [
       "<AxesSubplot:xlabel='class', ylabel='도수'>"
      ]
     },
     "execution_count": 35,
     "metadata": {},
     "output_type": "execute_result"
    },
    {
     "data": {
      "image/png": "[encoded data removed]",
      "text/plain": [
       "<Figure size 432x288 with 1 Axes>"
      ]
     },
     "metadata": {
      "needs_background": "light"
     },
     "output_type": "display_data"
    }
   ],
   "source": [
    "sns.barplot(data = data, x='class', y='도수')"
   ]
  },
  {
   "cell_type": "markdown",
   "id": "a216d16f",
   "metadata": {},
   "source": [
    "#### 도수분포다각형 \n",
    "히스토그램에서 각 계급구간의 계급값의 빈도수를 직선으로 연결하여 그린 그림\n",
    "\n",
    "#### 원그래프: Pie chart"
   ]
  },
  {
   "cell_type": "code",
   "execution_count": 62,
   "id": "159891ae",
   "metadata": {},
   "outputs": [
    {
     "data": {
      "text/plain": [
       "array([<AxesSubplot:ylabel='도수'>], dtype=object)"
      ]
     },
     "execution_count": 62,
     "metadata": {},
     "output_type": "execute_result"
    },
    {
     "data": {
      "image/png": "[encoded data removed]",
      "text/plain": [
       "<Figure size 432x288 with 1 Axes>"
      ]
     },
     "metadata": {},
     "output_type": "display_data"
    }
   ],
   "source": [
    "data.set_index('class')[['도수']].plot.pie(autopct=\"%.1f%%\", subplots=True, legend=False)"
   ]
  },
  {
   "cell_type": "markdown",
   "id": "c8a34ad9",
   "metadata": {},
   "source": [
    "### section 03 대푯값 \n",
    "#### 산술평균\n",
    "평균: 산술평슌, 기하평균, 조화평균 등.. 일반적인 평균은 **산술 평균**을 의미한다.\n",
    "\n",
    "1. 산술평균에 대한 편차의 합은 0 이다.\n",
    "2. 편차의 제곱의 합을 최소로 한다. 즉 산술평균에 대한 편차의 제곱의 합은 임의의 수에 대한 편차의 제곱의 합 보다 크지 않다. \n",
    "3. 주어진 자료를 모두 사용함으로 정보 손실이 없고, 특히 표본들의 평균인 표본평균은 모집단을 추론할때 유용하다.\n",
    "4. 양적자료에 대해서만 구할 수 있으며, 극단값에 민감하게 작용한다.\n",
    "\n",
    "#### 중앙값\n",
    "$X$의 $n$개 자료를 작은 값 부터 크기순으로 배열했을때, 한가운데 위치한 중앙값(중위수)라고 하고 $Me$ 로 나타낸다.\n",
    "\n",
    "#### 최빈값\n",
    "가장 많이 나타나는 값, $Mo$ \n",
    "\n",
    "#### 산술평균, 중앙값, 최빈값 사이의 관계\n",
    "\n",
    "단봉형으로 나타나고, 극히 비대칭이 아닌 자료 집단의 산술평균, 중앙값, 최빈값 사이에는 다음과 같은 `피어슨의 실험 공식`이 성립한다.\n",
    "\n",
    "[피어슨의 실험 공식] https://ko.wikipedia.org/wiki/비대칭도\n",
    "\n",
    "#### 백분위수와 사분위수\n",
    "백분위수: 전체자료를 100p%와 100(1-p)%로 나누는 값\n",
    "사분위수: 특히 제 25, 50, 75, 4등분하는 위치에 있는 값\n",
    "\n",
    "#### 절사평균\n",
    "극단값의 유무에 따라 많은 영향을 받음으로 극단값을 제거하여 바람직한 평균을 산출하는 방법\n",
    "\n",
    "양 끝에서 $\\alpha$%에 해당하는 자료를 제거하고 남은 자료들의 평균"
   ]
  },
  {
   "cell_type": "markdown",
   "id": "dfac1c50",
   "metadata": {},
   "source": [
    "### Section 04 산포도\n",
    "산포도(measure of dispersion): 자료의 흩어진 정도\n",
    "\n",
    "아래와 같이 평균이 같은 2그룹이 있다."
   ]
  },
  {
   "cell_type": "code",
   "execution_count": 69,
   "id": "37f513e5",
   "metadata": {},
   "outputs": [
    {
     "data": {
      "text/plain": [
       "(69.3, 69.3)"
      ]
     },
     "execution_count": 69,
     "metadata": {},
     "output_type": "execute_result"
    }
   ],
   "source": [
    "import numpy as np\n",
    "\n",
    "A = [20, 45, 95, 80, 70, 85, 95, 87, 21, 95]\n",
    "B = [60, 65, 70, 75, 70, 70, 70, 65, 65, 83]\n",
    "\n",
    "np.mean(A), np.mean(B)"
   ]
  },
  {
   "cell_type": "code",
   "execution_count": 90,
   "id": "a9bb9834",
   "metadata": {},
   "outputs": [
    {
     "data": {
      "text/html": [
       "<div>\n",
       "<style scoped>\n",
       "    .dataframe tbody tr th:only-of-type {\n",
       "        vertical-align: middle;\n",
       "    }\n",
       "\n",
       "    .dataframe tbody tr th {\n",
       "        vertical-align: top;\n",
       "    }\n",
       "\n",
       "    .dataframe thead tr th {\n",
       "        text-align: left;\n",
       "    }\n",
       "\n",
       "    .dataframe thead tr:last-of-type th {\n",
       "        text-align: right;\n",
       "    }\n",
       "</style>\n",
       "<table border=\"1\" class=\"dataframe\">\n",
       "  <thead>\n",
       "    <tr>\n",
       "      <th></th>\n",
       "      <th colspan=\"8\" halign=\"left\">score</th>\n",
       "    </tr>\n",
       "    <tr>\n",
       "      <th></th>\n",
       "      <th>count</th>\n",
       "      <th>mean</th>\n",
       "      <th>std</th>\n",
       "      <th>min</th>\n",
       "      <th>25%</th>\n",
       "      <th>50%</th>\n",
       "      <th>75%</th>\n",
       "      <th>max</th>\n",
       "    </tr>\n",
       "    <tr>\n",
       "      <th>class</th>\n",
       "      <th></th>\n",
       "      <th></th>\n",
       "      <th></th>\n",
       "      <th></th>\n",
       "      <th></th>\n",
       "      <th></th>\n",
       "      <th></th>\n",
       "      <th></th>\n",
       "    </tr>\n",
       "  </thead>\n",
       "  <tbody>\n",
       "    <tr>\n",
       "      <th>A</th>\n",
       "      <td>10.0</td>\n",
       "      <td>69.3</td>\n",
       "      <td>29.833054</td>\n",
       "      <td>20.0</td>\n",
       "      <td>51.25</td>\n",
       "      <td>82.5</td>\n",
       "      <td>93.0</td>\n",
       "      <td>95.0</td>\n",
       "    </tr>\n",
       "    <tr>\n",
       "      <th>B</th>\n",
       "      <td>10.0</td>\n",
       "      <td>69.3</td>\n",
       "      <td>6.360468</td>\n",
       "      <td>60.0</td>\n",
       "      <td>65.00</td>\n",
       "      <td>70.0</td>\n",
       "      <td>70.0</td>\n",
       "      <td>83.0</td>\n",
       "    </tr>\n",
       "  </tbody>\n",
       "</table>\n",
       "</div>"
      ],
      "text/plain": [
       "      score                                                \n",
       "      count  mean        std   min    25%   50%   75%   max\n",
       "class                                                      \n",
       "A      10.0  69.3  29.833054  20.0  51.25  82.5  93.0  95.0\n",
       "B      10.0  69.3   6.360468  60.0  65.00  70.0  70.0  83.0"
      ]
     },
     "execution_count": 90,
     "metadata": {},
     "output_type": "execute_result"
    }
   ],
   "source": [
    "cls = [r for r in range(20, 100, 5)]\n",
    "data = pd.DataFrame({'score':A+B, 'class':['A']*len(A)+['B']*len(B)})\n",
    "data.groupby(['class']).describe()"
   ]
  },
  {
   "cell_type": "markdown",
   "id": "f134fb26",
   "metadata": {},
   "source": [
    "#### 범위\n",
    "_R_ : 최댓값 - 최솟값\n",
    "\n",
    "#### 사분위수 범위 \n",
    "(사분위수 범위): 제3사분위수 - 제1사분위수\n",
    "\n",
    "#### 분산과 표준편차\n",
    "표준편차의 값이 클수록 산포도가 커지는데, 넓게 흩어져있음을 나타낸다.\n",
    "\n",
    "#### 변동계수\n",
    "변량 $X$의 산술평균 $\\overline{x}$, 표준편차 $s$라고할때, \n",
    "$X$ 의 변동계수를 $CV$라고 하고, 다음과 같이 정의 한다.\n",
    "\n",
    "$CV =  \\frac{s}{\\overline{x}} \\times 100 $\n",
    "\n",
    "산술평균에 대한 표준편차의 상대적 크기를 나타내는 척도.\n",
    "변동계수가 크다는 것은 변동 폭이 크다는것을 의미한다.\n",
    "\n",
    "`상대분산`: 변동계수의 제곱\n",
    "\n",
    "#### 왜도와 첨도\n",
    "분포의 대칭이나 비대칭의 정도를 표시하는 척도를 **왜도**라고 한다. \n",
    "왜도의 절댃박이 클수록 비대칭의 정도가 심하다는 것을 의미한다. \n",
    "* 왜도 = 0, 대칭분포\n",
    "* 왜도 > 0, 왼쪽으로 치우침\n",
    "* 왜도 < 0, 오른쪽으로 치우침 \n",
    "\n",
    "뾰족함의 정도를 나타내는 척도를 **첨도**라고 한다.\n",
    "* 첨도 = 3 이면, 뾰족한 정도가 표준정규분포와 같다 \n",
    "* 첨도 > 3 이면, 표준정규분포보다 정점이 높고 뾰족\n",
    "* 첨도 < 3 이면, 표준정규분포보다 정점이 낮고 완만\n",
    "\n",
    "[첨도] https://ko.wikipedia.org/wiki/첨도"
   ]
  },
  {
   "cell_type": "markdown",
   "id": "1b31851f",
   "metadata": {},
   "source": [
    "### section 05 상자그림"
   ]
  },
  {
   "cell_type": "code",
   "execution_count": 97,
   "id": "611d09ae",
   "metadata": {},
   "outputs": [
    {
     "data": {
      "text/plain": [
       "<AxesSubplot:xlabel='score', ylabel='class'>"
      ]
     },
     "execution_count": 97,
     "metadata": {},
     "output_type": "execute_result"
    },
    {
     "data": {
      "image/png": "[encoded data removed]",
      "text/plain": [
       "<Figure size 432x288 with 1 Axes>"
      ]
     },
     "metadata": {
      "needs_background": "light"
     },
     "output_type": "display_data"
    }
   ],
   "source": [
    "sns.boxplot(x=\"score\", y=\"class\", data = data)"
   ]
  }
 ],
 "metadata": {
  "kernelspec": {
   "display_name": "Python 3 (ipykernel)",
   "language": "python",
   "name": "python3"
  },
  "language_info": {
   "codemirror_mode": {
    "name": "ipython",
    "version": 3
   },
   "file_extension": ".py",
   "mimetype": "text/x-python",
   "name": "python",
   "nbconvert_exporter": "python",
   "pygments_lexer": "ipython3",
   "version": "3.7.0"
  }
 },
 "nbformat": 4,
 "nbformat_minor": 5
}
